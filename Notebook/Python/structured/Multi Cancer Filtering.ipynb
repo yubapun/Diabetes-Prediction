{
 "cells": [
  {
   "cell_type": "code",
   "execution_count": null,
   "id": "15df114d",
   "metadata": {},
   "outputs": [],
   "source": [
    "import pandas as pd\n",
    "import numpy as np"
   ]
  },
  {
   "cell_type": "code",
   "execution_count": null,
   "id": "e84fb291",
   "metadata": {},
   "outputs": [],
   "source": [
    "breast_cancer_icd_df = pd.read_csv('/data/volume02/yuba/HC_STRUC/bc_full_icd.csv')\n",
    "breast_cancer_snomed_df = pd.read_csv('/data/volume02/yuba/HC_STRUC/bc_full_snomed.csv')\n",
    "\n",
    "prostate_cancer_icd_df = pd.read_csv('/data/volume02/yuba/HC_STRUC/prostate_full_icd.csv')\n",
    "prostate_cancer_snomed_df = pd.read_csv('/data/volume02/yuba/HC_STRUC/prostate_full_snomed.csv')\n",
    "\n",
    "kidney_cancer_icd_df = pd.read_csv('/data/volume02/yuba/HC_STRUC/kidney_full_icd.csv')\n",
    "kidney_cancer_snomed_df = pd.read_csv('/data/volume02/yuba/HC_STRUC/kidney_full_snomed.csv')\n",
    "\n",
    "paraganglioma_df = pd.read_csv('/data/volume02/yuba/HC_STRUC/paraganglioma_full_snomed.csv')\n",
    "\n",
    "polyp_icd_df = pd.read_csv('/data/volume02/yuba/HC_STRUC/polyp_full_icd.csv')\n",
    "polyp_snomed_df = pd.read_csv('/data/volume02/yuba/HC_STRUC/polyp_full_snomed.csv')\n",
    "\n",
    "thyroid_icd_df = pd.read_csv('/data/volume02/yuba/HC_STRUC/thyroid_full_icd.csv')\n",
    "thyroid_snomed_df = pd.read_csv('/data/volume02/yuba/HC_STRUC/thyroid_full_snomed.csv')\n",
    "\n",
    "carney_df = pd.read_csv('/data/volume02/yuba/HC_STRUC/carney_full_icd.csv')\n",
    "\n",
    "diffuse_icd_df = pd.read_csv('/data/volume02/yuba/HC_STRUC/diffuse_gastric_full_icd.csv')\n",
    "diffuse_snomed_df = pd.read_csv('/data/volume02/yuba/HC_STRUC/diffuse_gastric_full_snomed.csv')\n",
    "\n",
    "\n",
    "intestinal_icd_df = pd.read_csv('/data/volume02/yuba/HC_STRUC/intestinal_polyp_full_icd.csv')\n",
    "intestinal_snomed_df = pd.read_csv('/data/volume02/yuba/HC_STRUC/intestinal_polyp_full_snomed.csv')\n",
    "\n",
    "\n",
    "melanoma_icd_df = pd.read_csv('/data/volume02/yuba/HC_STRUC/melanoma_full_icd.csv')\n",
    "melanoma_snomed_df = pd.read_csv('/data/volume02/yuba/HC_STRUC/melanoma_full_snomed.csv')\n",
    "\n",
    "\n",
    "pc_icd_df = pd.read_csv('/data/volume02/yuba/HC_STRUC/pancreatic_full_icd.csv')\n",
    "pc_snomed_df = pd.read_csv('/data/volume02/yuba/HC_STRUC/pancreatic_full_snomed.csv')\n",
    "\n",
    "astrocytoma_icd_df = pd.read_csv('/data/volume02/yuba/HC_STRUC/astrocytoma_full_icd.csv')\n",
    "astrocytoma_snomed_df = pd.read_csv('/data/volume02/yuba/HC_STRUC/astrocytoma_full_snomed.csv')\n",
    "\n",
    "#################################################\n",
    "\n",
    "\n",
    "crc_icd_df = pd.read_csv('/data/volume02/yuba/HC_STRUC/crc_full_icd.csv')\n",
    "crc_snomed_df = pd.read_csv('/data/volume02/yuba/HC_STRUC/crc_full_snomed.csv')\n",
    "\n",
    "ec_icd_df = pd.read_csv('/data/volume02/yuba/HC_STRUC/ec_full_icd.csv')\n",
    "ec_snomed_df = pd.read_csv('/data/volume02/yuba/HC_STRUC/ec_full_snomed.csv')\n",
    "\n",
    "ov_icd_df = pd.read_csv('/data/volume02/yuba/HC_STRUC/ov_full_icd.csv')\n",
    "ov_snomed_df = pd.read_csv('/data/volume02/yuba/HC_STRUC/ov_full_snomed.csv')\n",
    "\n",
    "rc_icd_df = pd.read_csv('/data/volume02/yuba/HC_STRUC/rc_full_icd.csv')\n",
    "rc_snomed_df = pd.read_csv('/data/volume02/yuba/HC_STRUC/rc_full_snomed.csv')"
   ]
  },
  {
   "cell_type": "code",
   "execution_count": null,
   "id": "428197ca",
   "metadata": {},
   "outputs": [],
   "source": [
    "ov_snomed_df.dtypes"
   ]
  },
  {
   "cell_type": "markdown",
   "id": "aa815498",
   "metadata": {},
   "source": [
    "**DATABASE CONSIST OF 2 DIFFERENT DIAGNOSIS TABLES**\n",
    "- Required to pass through function before merging for full diagnosis dataframe"
   ]
  },
  {
   "cell_type": "code",
   "execution_count": null,
   "id": "2b278a4e",
   "metadata": {},
   "outputs": [],
   "source": [
    "def unique_patients(icd_df, snomed_df, id_col = 'PATIENT_IDENTIFIER', enc_col = 'ENCOUNTER_KEY', int_cols=None):\n",
    "\n",
    "    icd_df_unique = icd_df.drop_duplicates(subset=[id_col, enc_col], keep='first').copy()\n",
    "    snomed_df_unique = snomed_df.drop_duplicates(subset=[id_col, enc_col], keep='first').copy()\n",
    "    \n",
    "    #overlap logic\n",
    "    overlap = pd.merge(\n",
    "        icd_df_unique[[id_col, enc_col]],\n",
    "        snomed_df_unique[[id_col, enc_col]],\n",
    "        on=[id_col, enc_col],\n",
    "        how='inner'\n",
    "    )\n",
    "    \n",
    "    n_patients = overlap[id_col].nunique()\n",
    "    print(f\"{n_patients} unique patient(s) has overlapping encounters and will be dropped.\")\n",
    "    \n",
    "    if not overlap.empty:\n",
    "        snomed_df_unique = snomed_df_unique.merge(overlap, on=[id_col, enc_col], how='left', indicator=True)\n",
    "        snomed_df_unique = snomed_df_unique[snomed_df_unique['_merge'] == 'left_only']\n",
    "        snomed_df_unique = snomed_df_unique.drop(columns=['_merge'])\n",
    "        \n",
    "    merged_df = pd.concat([icd_df_unique, snomed_df_unique], ignore_index=True)\n",
    "    \n",
    "    if int_cols:\n",
    "        for col in int_cols:\n",
    "            if col in merged_df.columns:\n",
    "                merged_df[col] = merged_df[col].astype('Int64')\n",
    "    \n",
    "    return merged_df\n",
    "        \n",
    "    #return icd_df_unique.reset_index(drop=True), snomed_df_unique.reset_index(drop=True)"
   ]
  },
  {
   "cell_type": "code",
   "execution_count": null,
   "id": "a037ab73",
   "metadata": {},
   "outputs": [],
   "source": [
    "bc_df = unique_patients(breast_cancer_icd_df, breast_cancer_snomed_df, id_col = 'PATIENT_IDENTIFIER', enc_col = 'ENCOUNTER_KEY', int_cols=['DIAGNOSIS_CODE'])\n",
    "\n",
    "crc_df = unique_patients(crc_icd_df, crc_snomed_df, id_col = 'PATIENT_IDENTIFIER', enc_col = 'ENCOUNTER_KEY', int_cols=['DIAGNOSIS_CODE'])\n",
    "\n",
    "ec_df = unique_patients(ec_icd_df, ec_snomed_df, id_col = 'PATIENT_IDENTIFIER', enc_col = 'ENCOUNTER_KEY', int_cols=['DIAGNOSIS_CODE'])\n",
    "\n",
    "ov_df = unique_patients(ov_icd_df, ov_snomed_df, id_col = 'PATIENT_IDENTIFIER', enc_col = 'ENCOUNTER_KEY', int_cols=['DIAGNOSIS_CODE'])\n",
    "\n",
    "pc_df = unique_patients(pc_icd_df, pc_snomed_df, id_col = 'PATIENT_IDENTIFIER', enc_col = 'ENCOUNTER_KEY', int_cols=['DIAGNOSIS_CODE'])\n",
    "\n",
    "rc_df = unique_patients(rc_icd_df, rc_snomed_df, id_col = 'PATIENT_IDENTIFIER', enc_col = 'ENCOUNTER_KEY', int_cols=['DIAGNOSIS_CODE'])\n",
    "\n",
    "pros_df = unique_patients(prostate_cancer_icd_df, prostate_cancer_snomed_df, id_col = 'PATIENT_IDENTIFIER', enc_col = 'ENCOUNTER_KEY', int_cols=['DIAGNOSIS_CODE'])\n",
    "\n",
    "kc_df = unique_patients(kidney_cancer_icd_df, kidney_cancer_snomed_df, id_col = 'PATIENTPATIENT_IDENTIFIER_KEY', enc_col = 'ENCOUNTER_KEY', int_cols=['DIAGNOSIS_CODE'])\n",
    "\n",
    "polyp_df = unique_patients(polyp_icd_df, polyp_snomed_df, id_col = 'PATIENT_IDENTIFIER', enc_col = 'ENCOUNTER_KEY', int_cols=['DIAGNOSIS_CODE'])\n",
    "\n",
    "thyroid_df = unique_patients(thyroid_icd_df, thyroid_snomed_df, id_col = 'PATIENT_IDENTIFIER', enc_col = 'ENCOUNTER_KEY', int_cols=['DIAGNOSIS_CODE'])\n",
    "\n",
    "diffuse_df = unique_patients(diffuse_icd_df, diffuse_snomed_df, id_col = 'PATIENT_IDENTIFIER', enc_col = 'ENCOUNTER_KEY', int_cols=['DIAGNOSIS_CODE'])\n",
    "\n",
    "intestinal_df = unique_patients(intestinal_icd_df, intestinal_snomed_df, id_col = 'PATIENT_IDENTIFIER', enc_col = 'ENCOUNTER_KEY', int_cols=['DIAGNOSIS_CODE'])\n",
    "\n",
    "melanoma_df = unique_patients(melanoma_icd_df, melanoma_snomed_df, id_col = 'PATIENT_IDENTIFIER', enc_col = 'ENCOUNTER_KEY', int_cols=['DIAGNOSIS_CODE'])\n",
    "\n",
    "astrocytoma_df = unique_patients(astrocytoma_icd_df, astrocytoma_snomed_df, id_col = 'PATIENT_IDENTIFIER', enc_col = 'ENCOUNTER_KEY', int_cols=['DIAGNOSIS_CODE'])\n",
    "\n"
   ]
  },
  {
   "cell_type": "markdown",
   "id": "62d4fe5b",
   "metadata": {},
   "source": [
    "**Assigning Diagnosis column for easier filtering**"
   ]
  },
  {
   "cell_type": "code",
   "execution_count": null,
   "id": "60609903",
   "metadata": {},
   "outputs": [],
   "source": [
    "#CONVERT ALL DATE COLUMN TO DATETIME\n",
    "\n",
    "bc_df['Diagnosis'] = 'Breast Cancer'\n",
    "\n",
    "crc_df['Diagnosis'] = 'Colorectal Cancer'\n",
    "\n",
    "ec_df['Diagnosis'] = 'Endometrial Cancer'\n",
    "\n",
    "ov_df['Diagnosis'] = 'Ovarian Cancer'\n",
    "\n",
    "pc_df['Diagnosis'] = 'Pancreatic Cancer'\n",
    "\n",
    "rc_df['Diagnosis'] = 'Renal Cancer'\n",
    "\n",
    "pros_df['Diagnosis'] = 'Prostate Cancer'\n",
    "\n",
    "kc_df['Diagnosis'] = 'Kidney Cancer'\n",
    "\n",
    "paraganglioma_df['Diagnosis'] = 'Paraganglioma'\n",
    "\n",
    "polyp_df['Diagnosis'] = 'Polyp'\n",
    "\n",
    "carney_df['Diagnosis'] = 'Carney Complex'\n",
    "\n",
    "diffuse_df['Diagnosis'] = 'Diffuse Gastric Cancer'\n",
    "\n",
    "melanoma_df['Diagnosis'] = 'Melanoma Cancer'\n",
    "\n",
    "astrocytoma_df['Diagnosis'] = 'Astrocytoma'"
   ]
  },
  {
   "cell_type": "code",
   "execution_count": null,
   "id": "f988635a",
   "metadata": {},
   "outputs": [],
   "source": [
    "#Extract year into its own column\n",
    "\n",
    "bc_df['ENCOUNTER_DATE']  = pd.to_datetime(bc_df['ENCOUNTER_DATE'])\n",
    "\n",
    "crc_df['ENCOUNTER_DATE']  = pd.to_datetime(crc_df['ENCOUNTER_DATE'])\n",
    "\n",
    "ec_df['ENCOUNTER_DATE']  = pd.to_datetime(ec_df['ENCOUNTER_DATE'])\n",
    "\n",
    "ov_df['ENCOUNTER_DATE']  = pd.to_datetime(ov_df['ENCOUNTER_DATE'])\n",
    "\n",
    "pc_df['ENCOUNTER_DATE']  = pd.to_datetime(pc_df['ENCOUNTER_DATE'])\n",
    "\n",
    "rc_df['ENCOUNTER_DATE']  = pd.to_datetime(rc_df['ENCOUNTER_DATE'])\n",
    "\n",
    "pros_df['ENCOUNTER_DATE']  = pd.to_datetime(pros_df['ENCOUNTER_DATE'])\n",
    "\n",
    "kc_df['ENCOUNTER_DATE']  = pd.to_datetime(kc_df['ENCOUNTER_DATE'])\n",
    "\n",
    "paraganglioma_df['ENCOUNTER_DATE']  = pd.to_datetime(paraganglioma_df['ENCOUNTER_DATE'])\n",
    "\n",
    "polyp_df['ENCOUNTER_DATE']  = pd.to_datetime(polyp_df['ENCOUNTER_DATE'])\n",
    "\n",
    "carney_df['ENCOUNTER_DATE']  = pd.to_datetime(carney_df['ENCOUNTER_DATE'])\n",
    "\n",
    "diffuse_df['ENCOUNTER_DATE']  = pd.to_datetime(diffuse_df['ENCOUNTER_DATE'])\n",
    "\n",
    "melanoma_df['ENCOUNTER_DATE']  = pd.to_datetime(melanoma_df['ENCOUNTER_DATE'])\n",
    "\n",
    "astrocytoma_df['ENCOUNTER_DATE']  = pd.to_datetime(astrocytoma_df['ENCOUNTER_DATE'])"
   ]
  },
  {
   "cell_type": "code",
   "execution_count": null,
   "id": "b159ad37",
   "metadata": {},
   "outputs": [],
   "source": [
    "bc_df['year'] = bc_df['ENCOUNTER_DATE'].dt.year\n",
    "crc_df['year'] = crc_df['ENCOUNTER_DATE'].dt.year\n",
    "ec_df['year'] = ec_df['ENCOUNTER_DATE'].dt.year\n",
    "ov_df['year'] = ov_df['ENCOUNTER_DATE'].dt.year\n",
    "pc_df['year'] = pc_df['ENCOUNTER_DATE'].dt.year\n",
    "rc_df['year'] = rc_df['ENCOUNTER_DATE'].dt.year\n",
    "\n",
    "pros_df['year'] = pros_df['ENCOUNTER_DATE'].dt.year\n",
    "kc_df['year'] = kc_df['ENCOUNTER_DATE'].dt.year\n",
    "paraganglioma_df['year'] = paraganglioma_df['ENCOUNTER_DATE'].dt.year\n",
    "polyp_df['year'] = polyp_df['ENCOUNTER_DATE'].dt.year\n",
    "carney_df['year'] = carney_df['ENCOUNTER_DATE'].dt.year\n",
    "\n",
    "diffuse_df['year'] = diffuse_df['ENCOUNTER_DATE'].dt.year\n",
    "melanoma_df['year'] = melanoma_df['ENCOUNTER_DATE'].dt.year\n",
    "astrocytoma_df['year'] = astrocytoma_df['ENCOUNTER_DATE'].dt.year"
   ]
  },
  {
   "cell_type": "code",
   "execution_count": null,
   "id": "bcb0befb",
   "metadata": {},
   "outputs": [],
   "source": [
    "#Function to count yearly patients\n",
    "def unique_patients(df):\n",
    "    return (\n",
    "        df.drop_duplicates(subset=['PATIENT_IDENTIFIER', 'year']).groupby('year')['PATIENT_IDENTIFIER'].nunique().reindex(range(2017,2022), fill_value=0)\n",
    "    )"
   ]
  },
  {
   "cell_type": "markdown",
   "id": "ee677246",
   "metadata": {},
   "source": [
    "# Multi Cancer Criteria Filtering "
   ]
  },
  {
   "cell_type": "code",
   "execution_count": null,
   "id": "83e522d4",
   "metadata": {},
   "outputs": [],
   "source": [
    "#function to find overlapping patients in the different cancer dataframes\n",
    "\n",
    "def overlap_cancer(df1, df2, id_col='PATIENT_IDENTIFIER', year_col='year'):\n",
    "    \n",
    "    id1 = set(df1[id_col].dropna().unique())\n",
    "    id2 = set(df2[id_col].dropna().unique())\n",
    "    \n",
    "    overlap_ids = id1.intersection(id2)\n",
    "    \n",
    "    print(f\"{len(overlap_ids)} unique patient(s) found in both DataFrames.\")\n",
    "    \n",
    "    overlap_df = pd.DataFrame({id_col: list(overlap_ids)})\n",
    "    \n",
    "    combined = pd.concat([df1, df2], ignore_index=True)\n",
    "    combined = combined[combined[id_col].isin(overlap_ids)]\n",
    "    \n",
    "    combined_unique = combined.drop_duplicates(subset=[id_col, year_col])\n",
    "    \n",
    "    yearly_counts = (\n",
    "        combined_unique.groupby(year_col)[id_col].nunique().reindex(range(2017,2022), fill_value=0)\n",
    "    )\n",
    "    \n",
    "    for year, count in yearly_counts.items():\n",
    "        print(f\"Year {year}: {count}\")\n",
    "    \n",
    "    return overlap_df, yearly_counts"
   ]
  },
  {
   "cell_type": "markdown",
   "id": "28bbd819",
   "metadata": {},
   "source": [
    "**Filter 1: Prostate Cancer and also diagnosed with male breast cancer**"
   ]
  },
  {
   "cell_type": "code",
   "execution_count": null,
   "id": "cec8a779",
   "metadata": {},
   "outputs": [],
   "source": [
    "m_bc = bc_df[bc_df['GENDER'] == 'Male']\n",
    "m_bc_cnt = m_bc['PATIENT_IDENTIFIER'].nunique()\n",
    "print(f\"There are {m_bc_cnt} Male Breast Cancer Patients\")"
   ]
  },
  {
   "cell_type": "code",
   "execution_count": null,
   "id": "56170142",
   "metadata": {},
   "outputs": [],
   "source": [
    "pc_mc_yearly, pc_mc = overlap_cancer(pros_df, m_bc, id_col='PATIENT_IDENTIFIER', year_col='year')"
   ]
  },
  {
   "cell_type": "code",
   "execution_count": null,
   "id": "a92469f8",
   "metadata": {},
   "outputs": [],
   "source": [
    "pc_mc_yearly"
   ]
  },
  {
   "cell_type": "markdown",
   "id": "7d9629c2",
   "metadata": {},
   "source": [
    "**Filter 2: Kidney cancer and paraganglioma or phaeochromocytoma**"
   ]
  },
  {
   "cell_type": "code",
   "execution_count": null,
   "id": "0926f503",
   "metadata": {},
   "outputs": [],
   "source": [
    "kc_p = overlap_cancer(paraganglioma_df, kc_df, id_col='PATIENT_IDENTIFIER')"
   ]
  },
  {
   "cell_type": "markdown",
   "id": "d35f09db",
   "metadata": {},
   "source": [
    "**Filter 3: Kidney Cancer and Polyp**"
   ]
  },
  {
   "cell_type": "code",
   "execution_count": null,
   "id": "182f2bf5",
   "metadata": {},
   "outputs": [],
   "source": [
    "kc_polyp_yearly, kc_polyp = overlap_cancer(polyp_df, kc_df, id_col='PATIENT_IDENTIFIER')"
   ]
  },
  {
   "cell_type": "markdown",
   "id": "0f9c1d8c",
   "metadata": {},
   "source": [
    "**Filter 4: Kidney Cancer and Thyroid Cancer**"
   ]
  },
  {
   "cell_type": "code",
   "execution_count": null,
   "id": "7c6b555c",
   "metadata": {},
   "outputs": [],
   "source": [
    "kc_thy_yearly, kc_thy = overlap_cancer(thyroid_df, kc_df, id_col='PATIENT_IDENTIFIER')"
   ]
  },
  {
   "cell_type": "markdown",
   "id": "64e4d82e",
   "metadata": {},
   "source": [
    "**Filter 5: Kidney Cancer and Endometiral Cancer**"
   ]
  },
  {
   "cell_type": "code",
   "execution_count": null,
   "id": "db5cdbdb",
   "metadata": {},
   "outputs": [],
   "source": [
    "kc_ec_yearly, kc_ec = overlap_cancer(ec_df, kc_df, id_col='PATIENT_IDENTIFIER')"
   ]
  },
  {
   "cell_type": "markdown",
   "id": "bbe99b29",
   "metadata": {},
   "source": [
    "**Filter 6: Thyroid cancer and carney complex criterion**"
   ]
  },
  {
   "cell_type": "code",
   "execution_count": null,
   "id": "8ed07a81",
   "metadata": {},
   "outputs": [],
   "source": [
    "tc_cc_yearly, tc_cc = overlap_cancer(thyroid_df, carney_df, id_col='PATIENT_IDENTIFIER')"
   ]
  },
  {
   "cell_type": "markdown",
   "id": "0bec265a",
   "metadata": {},
   "source": [
    "**Filter 7: Thyroid Cancer and Polyp**"
   ]
  },
  {
   "cell_type": "code",
   "execution_count": null,
   "id": "9119e72e",
   "metadata": {},
   "outputs": [],
   "source": [
    "tc_p_yearly, tc_p = overlap_cancer(thyroid_df, polyp_df, id_col='PATIENT_IDENTIFIER')"
   ]
  },
  {
   "cell_type": "markdown",
   "id": "c54b8638",
   "metadata": {},
   "source": [
    "**Filter 8: Thyroid Cancer and Endometrial Cancer**"
   ]
  },
  {
   "cell_type": "code",
   "execution_count": null,
   "id": "47592866",
   "metadata": {},
   "outputs": [],
   "source": [
    "tc_ec_yearly, tc_ec = overlap_cancer(thyroid_df, ec_df, id_col='PATIENT_IDENTIFIER')"
   ]
  },
  {
   "cell_type": "markdown",
   "id": "41aed693",
   "metadata": {},
   "source": [
    "**Filter 9: Diffuse gastric cancer and lobular bc in same person both diagnosed age < 70**"
   ]
  },
  {
   "cell_type": "code",
   "execution_count": null,
   "id": "b605e331",
   "metadata": {},
   "outputs": [],
   "source": [
    "#Diffuse gastric cancer age < 70\n",
    "ag_dgc = diffuse_df[diffuse_df['AGE'] < 70]\n",
    "\n",
    "#Breast cancer age < 70\n",
    "ag_bc = breast_cancer_icd_df[breast_cancer_icd_df['AGE'] < 70]\n",
    "\n",
    "#overlap\n",
    "dgc_bc_yearly, dgc_bc = overlap_cancer(ag_dgc, ag_bc, id_col='PATIENT_IDENTIFIER')"
   ]
  },
  {
   "cell_type": "markdown",
   "id": "c48a6a8a",
   "metadata": {},
   "source": [
    "**Filter 10: Gastric Cancer and intestinal polyps**"
   ]
  },
  {
   "cell_type": "code",
   "execution_count": null,
   "id": "5552c4e3",
   "metadata": {},
   "outputs": [],
   "source": [
    "gc_ip_yearly, gc_ip = overlap_cancer(intestinal_df, diffuse_df, id_col='PATIENT_IDENTIFIER')"
   ]
  },
  {
   "cell_type": "markdown",
   "id": "a21f1e4f",
   "metadata": {},
   "source": [
    "**Filter 11: Melanoma and pancreatic cancer**"
   ]
  },
  {
   "cell_type": "code",
   "execution_count": null,
   "id": "73b9a5a0",
   "metadata": {},
   "outputs": [],
   "source": [
    "mc_pc_yearly, mc_pc = overlap_cancer(melanoma_df, pc_df, id_col='PATIENT_IDENTIFIER')"
   ]
  },
  {
   "cell_type": "markdown",
   "id": "bfb43e11",
   "metadata": {},
   "source": [
    "**Filter 12: melanoma and astrocytoma**"
   ]
  },
  {
   "cell_type": "code",
   "execution_count": null,
   "id": "97eb2c82",
   "metadata": {},
   "outputs": [],
   "source": [
    "mc_a_yearly, mc_a = overlap_cancer(astrocytoma_df, melanoma_df, id_col = 'PATIENT_IDENTIFIER')"
   ]
  },
  {
   "cell_type": "code",
   "execution_count": null,
   "id": "81af4ca6",
   "metadata": {},
   "outputs": [],
   "source": [
    "# ALL FLAGGED PATIENT KEY\n",
    "multi_flagged_df = pd.concat([mc_a_yearly, pc_mc_yearly, mc_pc_yearly, gc_ip_yearly, dgc_bc_yearly, tc_ec_yearly, tc_p_yearly, tc_cc_yearly, kc_ec_yearly, kc_thy_yearly, kc_polyp_yearly], ignore_index=True)"
   ]
  },
  {
   "cell_type": "code",
   "execution_count": null,
   "id": "07386ee5",
   "metadata": {},
   "outputs": [],
   "source": [
    "multi_flagged_df['PATIENT_IDENTIFIER'] = multi_flagged_df['PATIENT_IDENTIFIER'].astype('Int64')"
   ]
  },
  {
   "cell_type": "code",
   "execution_count": null,
   "id": "a556c790",
   "metadata": {},
   "outputs": [],
   "source": [
    "multi_flagged_df.to_csv('multi_flagged_df.csv')"
   ]
  }
 ],
 "metadata": {
  "kernelspec": {
   "display_name": "Python 3 (ipykernel)",
   "language": "python",
   "name": "python3"
  },
  "language_info": {
   "codemirror_mode": {
    "name": "ipython",
    "version": 3
   },
   "file_extension": ".py",
   "mimetype": "text/x-python",
   "name": "python",
   "nbconvert_exporter": "python",
   "pygments_lexer": "ipython3",
   "version": "3.10.9"
  }
 },
 "nbformat": 4,
 "nbformat_minor": 5
}
