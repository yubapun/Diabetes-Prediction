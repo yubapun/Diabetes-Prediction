{
 "cells": [
  {
   "cell_type": "code",
   "execution_count": null,
   "id": "15df114d",
   "metadata": {},
   "outputs": [],
   "source": [
    "import pandas as pd\n",
    "import numpy as np"
   ]
  },
  {
   "cell_type": "code",
   "execution_count": null,
   "id": "e84fb291",
   "metadata": {},
   "outputs": [],
   "source": [
    "breast_cancer_icd_df = pd.read_csv('/data/volume02/yuba/HC_STRUC/bc_full_icd.csv')\n",
    "breast_cancer_snomed_df = pd.read_csv('/data/volume02/yuba/HC_STRUC/bc_full_snomed.csv')\n",
    "\n",
    "crc_icd_df = pd.read_csv('/data/volume02/yuba/HC_STRUC/crc_full_icd.csv')\n",
    "crc_snomed_df = pd.read_csv('/data/volume02/yuba/HC_STRUC/crc_full_snomed.csv')\n",
    "\n",
    "ec_icd_df = pd.read_csv('/data/volume02/yuba/HC_STRUC/ec_full_icd.csv')\n",
    "ec_snomed_df = pd.read_csv('/data/volume02/yuba/HC_STRUC/ec_full_snomed.csv')\n",
    "\n",
    "ov_icd_df = pd.read_csv('/data/volume02/yuba/HC_STRUC/ov_full_icd.csv')\n",
    "ov_snomed_df = pd.read_csv('/data/volume02/yuba/HC_STRUC/ov_full_snomed.csv')\n",
    "\n",
    "\n",
    "pc_icd_df = pd.read_csv('/data/volume02/yuba/HC_STRUC/pancreatic_full_icd.csv')\n",
    "pc_snomed_df = pd.read_csv('/data/volume02/yuba/HC_STRUC/pancreatic_full_snomed.csv')\n",
    "\n",
    "\n",
    "rc_icd_df = pd.read_csv('/data/volume02/yuba/HC_STRUC/rc_full_icd.csv')\n",
    "rc_snomed_df = pd.read_csv('/data/volume02/yuba/HC_STRUC/rc_full_snomed.csv')"
   ]
  },
  {
   "cell_type": "code",
   "execution_count": null,
   "id": "428197ca",
   "metadata": {},
   "outputs": [],
   "source": [
    "ov_snomed_df.dtypes"
   ]
  },
  {
   "cell_type": "markdown",
   "id": "aa815498",
   "metadata": {},
   "source": [
    "**DATABASE CONSIST OF 2 DIFFERENT DIAGNOSIS TABLES**\n",
    "- Required to pass through function before merging for full diagnosis dataframe"
   ]
  },
  {
   "cell_type": "code",
   "execution_count": null,
   "id": "2b278a4e",
   "metadata": {},
   "outputs": [],
   "source": [
    "def unique_patients(icd_df, snomed_df, id_col = 'PATIENT_IDENTIFIER', enc_col = 'ENCOUNTER_KEY', int_cols=None):\n",
    "\n",
    "    icd_df_unique = icd_df.drop_duplicates(subset=[id_col, enc_col], keep='first').copy()\n",
    "    snomed_df_unique = snomed_df.drop_duplicates(subset=[id_col, enc_col], keep='first').copy()\n",
    "    \n",
    "    #overlap logic\n",
    "    overlap = pd.merge(\n",
    "        icd_df_unique[[id_col, enc_col]],\n",
    "        snomed_df_unique[[id_col, enc_col]],\n",
    "        on=[id_col, enc_col],\n",
    "        how='inner'\n",
    "    )\n",
    "    \n",
    "    n_patients = overlap[id_col].nunique()\n",
    "    print(f\"{n_patients} unique patient(s) has overlapping encounters and will be dropped.\")\n",
    "    \n",
    "    if not overlap.empty:\n",
    "        snomed_df_unique = snomed_df_unique.merge(overlap, on=[id_col, enc_col], how='left', indicator=True)\n",
    "        snomed_df_unique = snomed_df_unique[snomed_df_unique['_merge'] == 'left_only']\n",
    "        snomed_df_unique = snomed_df_unique.drop(columns=['_merge'])\n",
    "        \n",
    "    merged_df = pd.concat([icd_df_unique, snomed_df_unique], ignore_index=True)\n",
    "    \n",
    "    if int_cols:\n",
    "        for col in int_cols:\n",
    "            if col in merged_df.columns:\n",
    "                merged_df[col] = merged_df[col].astype('Int64')\n",
    "    \n",
    "    return merged_df\n",
    "        \n",
    "    #return icd_df_unique.reset_index(drop=True), snomed_df_unique.reset_index(drop=True)"
   ]
  },
  {
   "cell_type": "code",
   "execution_count": null,
   "id": "a037ab73",
   "metadata": {},
   "outputs": [],
   "source": [
    "bc_df = unique_patients(breast_cancer_icd_df, breast_cancer_snomed_df, id_col = 'PATIENT_IDENTIFIER', enc_col = 'ENCOUNTER_KEY', int_cols=['DIAGNOSIS_CODE'])\n",
    "\n",
    "crc_df = unique_patients(crc_icd_df, crc_snomed_df, id_col = 'PATIENT_IDENTIFIER', enc_col = 'ENCOUNTER_KEY', int_cols=['DIAGNOSIS_CODE'])\n",
    "\n",
    "ec_df = unique_patients(ec_icd_df, ec_snomed_df, id_col = 'PATIENT_IDENTIFIER', enc_col = 'ENCOUNTER_KEY', int_cols=['DIAGNOSIS_CODE'])\n",
    "\n",
    "ov_df = unique_patients(ov_icd_df, ov_snomed_df, id_col = 'PATIENT_IDENTIFIER', enc_col = 'ENCOUNTER_KEY', int_cols=['DIAGNOSIS_CODE'])\n",
    "\n",
    "pc_df = unique_patients(pc_icd_df, pc_snomed_df, id_col = 'PATIENT_IDENTIFIER', enc_col = 'ENCOUNTER_KEY', int_cols=['DIAGNOSIS_CODE'])\n",
    "\n",
    "rc_df = unique_patients(rc_icd_df, rc_snomed_df, id_col = 'PATIENT_IDENTIFIER', enc_col = 'ENCOUNTER_KEY', int_cols=['DIAGNOSIS_CODE'])\n"
   ]
  },
  {
   "cell_type": "markdown",
   "id": "62d4fe5b",
   "metadata": {},
   "source": [
    "**Assigning Diagnosis column for easier filtering**"
   ]
  },
  {
   "cell_type": "code",
   "execution_count": null,
   "id": "60609903",
   "metadata": {},
   "outputs": [],
   "source": [
    "bc_df['Diagnosis'] = 'Breast Cancer'\n",
    "\n",
    "crc_df['Diagnosis'] = 'Colorectal Cancer'\n",
    "\n",
    "ec_df['Diagnosis'] = 'Endometrial Cancer'\n",
    "\n",
    "ov_df['Diagnosis'] = 'Ovarian Cancer'\n",
    "\n",
    "pc_df['Diagnosis'] = 'Pancreatic Cancer'\n",
    "\n",
    "rc_df['Diagnosis'] = 'Renal Cancer'"
   ]
  },
  {
   "cell_type": "code",
   "execution_count": null,
   "id": "d73d1cab",
   "metadata": {},
   "outputs": [],
   "source": [
    "#CONVERT ALL DATE COLUMN TO DATETIME\n",
    "bc_df['ENCOUNTER_DATE']  = pd.to_datetime(bc_df['ENCOUNTER_DATE'])\n",
    "crc_df['ENCOUNTER_DATE']  = pd.to_datetime(crc_df['ENCOUNTER_DATE'])\n",
    "ec_df['ENCOUNTER_DATE']  = pd.to_datetime(ec_df['ENCOUNTER_DATE'])\n",
    "ov_df['ENCOUNTER_DATE']  = pd.to_datetime(ov_df['ENCOUNTER_DATE'])\n",
    "pc_df['ENCOUNTER_DATE']  = pd.to_datetime(pc_df['ENCOUNTER_DATE'])\n",
    "rc_df['ENCOUNTER_DATE']  = pd.to_datetime(rc_df['ENCOUNTER_DATE'])"
   ]
  },
  {
   "cell_type": "code",
   "execution_count": null,
   "id": "f1c33b78",
   "metadata": {},
   "outputs": [],
   "source": [
    "#Extract year into its own column\n",
    "bc_df['year'] = bc_df['ENCOUNTER_DATE'].dt.year\n",
    "crc_df['year'] = crc_df['ENCOUNTER_DATE'].dt.year\n",
    "ec_df['year'] = ec_df['ENCOUNTER_DATE'].dt.year\n",
    "ov_df['year'] = ov_df['ENCOUNTER_DATE'].dt.year\n",
    "pc_df['year'] = pc_df['ENCOUNTER_DATE'].dt.year\n",
    "rc_df['year'] = rc_df['ENCOUNTER_DATE'].dt.year"
   ]
  },
  {
   "cell_type": "code",
   "execution_count": null,
   "id": "d8cd06cf",
   "metadata": {},
   "outputs": [],
   "source": [
    "#Function to count yearly patients\n",
    "def unique_patients(df):\n",
    "    return (\n",
    "        df.drop_duplicates(subset=['PATIENT_IDENTIFIER', 'year']).groupby('year')['PATIENT_IDENTIFIER'].nunique().reindex(range(2017,2022), fill_value=0)\n",
    "    )"
   ]
  },
  {
   "cell_type": "markdown",
   "id": "ee677246",
   "metadata": {},
   "source": [
    "# Criteria Filtering "
   ]
  },
  {
   "cell_type": "markdown",
   "id": "28bbd819",
   "metadata": {},
   "source": [
    "**Filter 1: Male With Breast Cancer**"
   ]
  },
  {
   "cell_type": "code",
   "execution_count": null,
   "id": "cec8a779",
   "metadata": {},
   "outputs": [],
   "source": [
    "m_bc = bc_df[bc_df['GENDER'] == 'Male']\n",
    "m_bc_cnt = m_bc['PATIENT_IDENTIFIER'].nunique()\n",
    "print(f\"There are {m_bc_cnt} Male Breast Cancer Patients\")"
   ]
  },
  {
   "cell_type": "code",
   "execution_count": null,
   "id": "3e4ac692",
   "metadata": {},
   "outputs": [],
   "source": [
    "f1_counts = unique_patients(m_bc)\n",
    "f1_counts"
   ]
  },
  {
   "cell_type": "code",
   "execution_count": null,
   "id": "3be1f8b5",
   "metadata": {},
   "outputs": [],
   "source": [
    "m_bc_pat = m_bc['PATIENT_IDENTIFIER'].unique()\n",
    "m_bc_pat_df = pd.DataFrame({'PATIENT_IDENTIFIER': m_bc_pat})\n",
    "m_bc_pat_df"
   ]
  },
  {
   "cell_type": "markdown",
   "id": "7d9629c2",
   "metadata": {},
   "source": [
    "**Filter 2: Breast Cancer Diagnosed < 50 years old**"
   ]
  },
  {
   "cell_type": "code",
   "execution_count": null,
   "id": "33cc9260",
   "metadata": {},
   "outputs": [],
   "source": [
    "age_bc = bc_df[bc_df['AGE'] < 50]\n",
    "age_bc_cnt = age_bc['PATIENT_IDENTIFIER'].nunique()\n",
    "print(f\"There are {age_bc_cnt} Breast Cancer Patients who are less than 50 years old\")"
   ]
  },
  {
   "cell_type": "code",
   "execution_count": null,
   "id": "45015f14",
   "metadata": {},
   "outputs": [],
   "source": [
    "f2_counts = unique_patients(age_bc)\n",
    "f2_counts"
   ]
  },
  {
   "cell_type": "code",
   "execution_count": null,
   "id": "08d31f05",
   "metadata": {
    "scrolled": true
   },
   "outputs": [],
   "source": [
    "age_bc_pat = age_bc['PATIENT_IDENTIFIER'].unique()\n",
    "age_bc_pat_df = pd.DataFrame({'PATIENT_IDENTIFIER': age_bc_pat})\n",
    "age_bc_pat_df"
   ]
  },
  {
   "cell_type": "markdown",
   "id": "99a5ef67",
   "metadata": {},
   "source": [
    "**Filter 3: Colorectal Cancer Diagnosed < 50 years old**"
   ]
  },
  {
   "cell_type": "code",
   "execution_count": null,
   "id": "df5b8a29",
   "metadata": {},
   "outputs": [],
   "source": [
    "age_crc = crc_df[crc_df['AGE'] < 50]\n",
    "age_crc_cnt = age_crc['PATIENT_IDENTIFIER'].nunique()\n",
    "print(f\"There are {age_crc_cnt} Colorectal Cancer Patients who are less than 50 years old\")"
   ]
  },
  {
   "cell_type": "code",
   "execution_count": null,
   "id": "270ee8b7",
   "metadata": {},
   "outputs": [],
   "source": [
    "f3_counts = unique_patients(age_crc)\n",
    "f3_counts"
   ]
  },
  {
   "cell_type": "code",
   "execution_count": null,
   "id": "9e8f9db1",
   "metadata": {},
   "outputs": [],
   "source": [
    "age_crc_pat = age_crc['PATIENT_IDENTIFIER'].unique()\n",
    "age_crc_pat_df = pd.DataFrame({'PATIENT_IDENTIFIER': age_crc_pat})\n",
    "age_crc_pat_df"
   ]
  },
  {
   "cell_type": "markdown",
   "id": "1680d408",
   "metadata": {},
   "source": [
    "**Filter 4: Endometrial (Uterine) Cancer Diagnosed < 50 years old**"
   ]
  },
  {
   "cell_type": "code",
   "execution_count": null,
   "id": "9e157e3b",
   "metadata": {},
   "outputs": [],
   "source": [
    "age_ec = ec_df[ec_df['AGE'] < 50]\n",
    "age_ec_cnt = age_ec['PATIENT_IDENTIFIER'].nunique()\n",
    "print(f\"There are {age_ec_cnt} Endometrial (Uterine) Cancer Patients who are less than 50 years old\")"
   ]
  },
  {
   "cell_type": "code",
   "execution_count": null,
   "id": "11144664",
   "metadata": {},
   "outputs": [],
   "source": [
    "f4_counts = unique_patients(age_ec)\n",
    "f4_counts"
   ]
  },
  {
   "cell_type": "code",
   "execution_count": null,
   "id": "a66cdbea",
   "metadata": {},
   "outputs": [],
   "source": [
    "age_ec_pat = age_ec['PATIENT_IDENTIFIER'].unique()\n",
    "age_ec_pat_df = pd.DataFrame({'PATIENT_IDENTIFIER': age_ec_pat})\n",
    "age_ec_pat_df"
   ]
  },
  {
   "cell_type": "markdown",
   "id": "31def5d2",
   "metadata": {},
   "source": [
    "**Filter 5: Invasive non-mucinous epithelial ovarian, fallopian rube or primary peritoneal cancer**"
   ]
  },
  {
   "cell_type": "code",
   "execution_count": null,
   "id": "fab8f1c2",
   "metadata": {},
   "outputs": [],
   "source": [
    "#Filter for specific codes was done in SQL\n",
    "ov_cnt = ov_df['PATIENT_IDENTIFIER'].nunique()\n",
    "print(f\"There are {ov_cnt} Invasive non-mucinous epithelial ovarian, fallopian rube or primary peritoneal cancer patients\")"
   ]
  },
  {
   "cell_type": "code",
   "execution_count": null,
   "id": "7fa5c4a6",
   "metadata": {},
   "outputs": [],
   "source": [
    "f4_counts = unique_patients(ov_df)\n",
    "f4_counts"
   ]
  },
  {
   "cell_type": "code",
   "execution_count": null,
   "id": "f6eab612",
   "metadata": {
    "scrolled": true
   },
   "outputs": [],
   "source": [
    "ov_df_pat = ov_df['PATIENT_IDENTIFIER'].unique()\n",
    "ov_df_pat_df = pd.DataFrame({'PATIENT_IDENTIFIER': ov_df_pat})\n",
    "ov_df_pat_df"
   ]
  },
  {
   "cell_type": "markdown",
   "id": "f05840a9",
   "metadata": {},
   "source": [
    "**Filter 5: Metastatic Pancreatic Cancer dx at any age**"
   ]
  },
  {
   "cell_type": "code",
   "execution_count": null,
   "id": "c0a933f9",
   "metadata": {},
   "outputs": [],
   "source": [
    "#Filter  was done for standard pancreatic cancer diagnosis codes, Cannot assess metastases. \n",
    "pc_cnt = pc_df['PATIENT_IDENTIFIER'].nunique()\n",
    "print(f\"There are {pc_cnt} patients with pancreatic cancer at any age\")"
   ]
  },
  {
   "cell_type": "code",
   "execution_count": null,
   "id": "3321f34c",
   "metadata": {},
   "outputs": [],
   "source": [
    "f5_counts = unique_patients(pc_df)\n",
    "f5_counts"
   ]
  },
  {
   "cell_type": "code",
   "execution_count": null,
   "id": "7b29c14f",
   "metadata": {},
   "outputs": [],
   "source": [
    "pc_df_pat = pc_df['PATIENT_IDENTIFIER'].unique()\n",
    "pc_df_pat_df = pd.DataFrame({'PATIENT_IDENTIFIER': pc_df_pat})\n",
    "pc_df_pat_df"
   ]
  },
  {
   "cell_type": "markdown",
   "id": "57d60ac1",
   "metadata": {},
   "source": [
    "**Filter 6: Renal cell carcinoma (RCC) < 45 Years old**"
   ]
  },
  {
   "cell_type": "code",
   "execution_count": null,
   "id": "89e0e6e1",
   "metadata": {},
   "outputs": [],
   "source": [
    "age_rc = rc_df[rc_df['AGE'] < 45]\n",
    "age_rc_cnt = age_rc['PATIENT_IDENTIFIER'].nunique()\n",
    "print(f\"There are {age_rc_cnt} Renal Cell Carcinoma Patients who are less than 45 years old\")"
   ]
  },
  {
   "cell_type": "code",
   "execution_count": null,
   "id": "99ab7c1f",
   "metadata": {},
   "outputs": [],
   "source": [
    "f6_counts = unique_patients(age_rc)\n",
    "f6_counts"
   ]
  },
  {
   "cell_type": "code",
   "execution_count": null,
   "id": "cbbbdc27",
   "metadata": {},
   "outputs": [],
   "source": [
    "age_rc_pat = age_rc['PATIENT_IDENTIFIER'].unique()\n",
    "age_rc_pat_df = pd.DataFrame({'PATIENT_IDENTIFIER': age_rc_pat})\n",
    "age_rc_pat_df"
   ]
  },
  {
   "cell_type": "code",
   "execution_count": null,
   "id": "2a2cd716",
   "metadata": {},
   "outputs": [],
   "source": [
    "# Flagged patient keys\n",
    "demo_flagged_df = pd.concat([m_bc_pat_df, age_bc_pat_df, age_crc_pat_df, age_ec_pat_df, ov_df_pat_df, pc_df_pat_df, age_rc_pat_df], ignore_index=True)"
   ]
  },
  {
   "cell_type": "code",
   "execution_count": null,
   "id": "65f3f892",
   "metadata": {},
   "outputs": [],
   "source": [
    "demo_flagged_df.to_csv('demo_flagged_df.csv')"
   ]
  }
 ],
 "metadata": {
  "kernelspec": {
   "display_name": "Python 3 (ipykernel)",
   "language": "python",
   "name": "python3"
  },
  "language_info": {
   "codemirror_mode": {
    "name": "ipython",
    "version": 3
   },
   "file_extension": ".py",
   "mimetype": "text/x-python",
   "name": "python",
   "nbconvert_exporter": "python",
   "pygments_lexer": "ipython3",
   "version": "3.10.9"
  }
 },
 "nbformat": 4,
 "nbformat_minor": 5
}
