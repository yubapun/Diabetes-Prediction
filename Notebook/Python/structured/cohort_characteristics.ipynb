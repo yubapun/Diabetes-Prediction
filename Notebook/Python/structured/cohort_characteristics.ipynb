{
 "cells": [
  {
   "cell_type": "code",
   "execution_count": null,
   "id": "c008974f",
   "metadata": {},
   "outputs": [],
   "source": [
    "import numpy as np\n",
    "import pandas as pd"
   ]
  },
  {
   "cell_type": "code",
   "execution_count": null,
   "id": "6a24cd67",
   "metadata": {},
   "outputs": [],
   "source": [
    "characteristics = pd.read_csv('/data/volume02/yuba/HC_CSV2.0/patient_birthday_gender_race.csv')"
   ]
  },
  {
   "cell_type": "code",
   "execution_count": null,
   "id": "5102a48c",
   "metadata": {},
   "outputs": [],
   "source": [
    "demo_flagged_df = pd.read_csv('demo_flagged_df.csv')\n",
    "lynch_flagged_df = pd.read_csv('lynch_flagged_df.csv')\n",
    "multi_flagged_df = pd.read_csv('multi_flagged_df.csv')"
   ]
  },
  {
   "cell_type": "code",
   "execution_count": null,
   "id": "6cf50ef7",
   "metadata": {},
   "outputs": [],
   "source": [
    "combined_df = pd.concat([demo_flagged_df, lynch_flagged_df, multi_flagged_df], ignore_index=True)"
   ]
  },
  {
   "cell_type": "code",
   "execution_count": null,
   "id": "4ffdfcd2",
   "metadata": {},
   "outputs": [],
   "source": [
    "combined_df['PATIENT_IDENTIFIER'].nunique()"
   ]
  },
  {
   "cell_type": "code",
   "execution_count": null,
   "id": "06c02791",
   "metadata": {},
   "outputs": [],
   "source": [
    "combined_df = combined_df.drop_duplicates(subset='PATIENT_IDENTIFIER')"
   ]
  },
  {
   "cell_type": "code",
   "execution_count": null,
   "id": "011d2d00",
   "metadata": {},
   "outputs": [],
   "source": [
    "filtered_df = characteristics[characteristics['PATIENT_IDENTIFIER'].isin(combined_df['PATIENT_IDENTIFIER'])]"
   ]
  },
  {
   "cell_type": "code",
   "execution_count": null,
   "id": "da0854a5",
   "metadata": {},
   "outputs": [],
   "source": [
    "# Mean Age and SD\n",
    "ref_date = pd.Timestamp('2024-01-01')\n",
    "\n",
    "filtered_df['DATE_BIRTH'] = pd.to_datetime(filtered_df['DATE_BIRTH'], errors='coerce')\n",
    "\n",
    "#Calculate age as of 1st jan 2024\n",
    "filtered_df['AGE_2024'] = (ref_date.year - filtered_df['DATE_BIRTH'].dt.year \n",
    "                           - ((filtered_df['DATE_BIRTH'].dt.month > ref_date.month) |\n",
    "                             ((filtered_df['DATE_BIRTH'].dt.month == ref_date.month) &\n",
    "                             (filtered_df['DATE_BIRTH'].dt.day > ref_date.day))\n",
    "                             ).astype(int)\n",
    "                          )\n",
    "\n",
    "mean_age = filtered_df['AGE_2024'].mean()\n",
    "sd_age = filtered_df['AGE_2024'].std()\n",
    "\n",
    "print(f\"Mean age: {mean_age:.2f}\")\n",
    "print(f\"SD: {sd_age:.2f}\")"
   ]
  },
  {
   "cell_type": "code",
   "execution_count": null,
   "id": "1d5c3ab5",
   "metadata": {},
   "outputs": [],
   "source": [
    "# Gender distribution \n",
    "unique_pat = filtered_df.drop_duplicates(subset='PATIENT_IDENTIFIER')\n",
    "\n",
    "#unique_pat['GENDER'] = unique_pat['GENDER'].str.strip().str.capitalize()\n",
    "\n",
    "total_pat = unique_pat.shape[0]\n",
    "men_cnt = (unique_pat['GENDER'] == 'Male').sum()\n",
    "men_percen = men_cnt * 100 / total_pat\n",
    "\n",
    "print(f\"Men Count: {men_cnt}\")\n",
    "print(f\"Men Percentage: {men_percen}\")"
   ]
  },
  {
   "cell_type": "code",
   "execution_count": null,
   "id": "0c1d389e",
   "metadata": {},
   "outputs": [],
   "source": [
    "# Race distribution\n",
    "race_dist = unique_pat['RACE'].value_counts(dropna=False).to_frame(name='count')\n",
    "race_dist['percent'] = (race_dist['count'] * 100 / total_pat).round(2)\n",
    "\n",
    "race_dist"
   ]
  },
  {
   "cell_type": "code",
   "execution_count": null,
   "id": "58b825b0",
   "metadata": {},
   "outputs": [],
   "source": []
  }
 ],
 "metadata": {
  "kernelspec": {
   "display_name": "Python 3 (ipykernel)",
   "language": "python",
   "name": "python3"
  },
  "language_info": {
   "codemirror_mode": {
    "name": "ipython",
    "version": 3
   },
   "file_extension": ".py",
   "mimetype": "text/x-python",
   "name": "python",
   "nbconvert_exporter": "python",
   "pygments_lexer": "ipython3",
   "version": "3.10.9"
  }
 },
 "nbformat": 4,
 "nbformat_minor": 5
}
