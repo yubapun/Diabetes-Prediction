{
 "cells": [
  {
   "cell_type": "code",
   "execution_count": null,
   "id": "15df114d",
   "metadata": {},
   "outputs": [],
   "source": [
    "import pandas as pd\n",
    "import numpy as np"
   ]
  },
  {
   "cell_type": "code",
   "execution_count": null,
   "id": "bcd00134",
   "metadata": {},
   "outputs": [],
   "source": [
    "lynch_icd_df = pd.read_csv('/data/volume02/yuba/HC_STRUC/lynch_full_icd.csv')\n",
    "lynch_snomed_df = pd.read_csv('/data/volume02/yuba/HC_STRUC/lynch_full_snomed.csv')\n",
    "\n",
    "\n",
    "crc_icd_df = pd.read_csv('/data/volume02/yuba/HC_STRUC/crc_full_icd.csv')\n",
    "crc_snomed_df = pd.read_csv('/data/volume02/yuba/HC_STRUC/crc_full_snomed.csv')\n",
    "\n",
    "\n",
    "ec_icd_df = pd.read_csv('/data/volume02/yuba/HC_STRUC/ec_full_icd.csv')\n",
    "ec_snomed_df = pd.read_csv('/data/volume02/yuba/HC_STRUC/ec_full_snomed.csv')\n",
    "\n",
    "\n",
    "ov_icd_df = pd.read_csv('/data/volume02/yuba/HC_STRUC/ov_full_icd.csv')\n",
    "ov_snomed_df = pd.read_csv('/data/volume02/yuba/HC_STRUC/ov_full_snomed.csv')\n",
    "\n",
    "\n",
    "pc_icd_df = pd.read_csv('/data/volume02/yuba/HC_STRUC/pancreatic_full_icd.csv')\n",
    "pc_snomed_df = pd.read_csv('/data/volume02/yuba/HC_STRUC/pancreatic_full_snomed.csv')\n",
    "\n",
    "\n",
    "rc_icd_df = pd.read_csv('/data/volume02/yuba/HC_STRUC/rc_full_icd.csv')\n",
    "rc_snomed_df = pd.read_csv('/data/volume02/yuba/HC_STRUC/rc_full_snomed.csv')\n",
    "\n",
    "\n",
    "gc_icd_df = pd.read_csv('/data/volume02/yuba/HC_STRUC/gastric_cancer_full_icd.csv')\n",
    "gc_snomed_df = pd.read_csv('/data/volume02/yuba/HC_STRUC/gastric_cancer_full_snomed.csv')"
   ]
  },
  {
   "cell_type": "markdown",
   "id": "aa815498",
   "metadata": {},
   "source": [
    "**DATABASE CONSIST OF 2 DIFFERENT DIAGNOSIS TABLES**\n",
    "- Required to pass through function before merging for full diagnosis dataframe"
   ]
  },
  {
   "cell_type": "code",
   "execution_count": null,
   "id": "2b278a4e",
   "metadata": {},
   "outputs": [],
   "source": [
    "def unique_patients(icd_df, snomed_df, id_col = 'PATIENT_IDENTIFIER', enc_col = 'ENCOUNTER_KEY', int_cols=None):\n",
    "\n",
    "    icd_df_unique = icd_df.drop_duplicates(subset=[id_col, enc_col], keep='first').copy()\n",
    "    snomed_df_unique = snomed_df.drop_duplicates(subset=[id_col, enc_col], keep='first').copy()\n",
    "    \n",
    "    #overlap logic\n",
    "    overlap = pd.merge(\n",
    "        icd_df_unique[[id_col, enc_col]],\n",
    "        snomed_df_unique[[id_col, enc_col]],\n",
    "        on=[id_col, enc_col],\n",
    "        how='inner'\n",
    "    )\n",
    "    \n",
    "    n_patients = overlap[id_col].nunique()\n",
    "    print(f\"{n_patients} unique patient(s) has overlapping encounters and will be dropped.\")\n",
    "    \n",
    "    if not overlap.empty:\n",
    "        snomed_df_unique = snomed_df_unique.merge(overlap, on=[id_col, enc_col], how='left', indicator=True)\n",
    "        snomed_df_unique = snomed_df_unique[snomed_df_unique['_merge'] == 'left_only']\n",
    "        snomed_df_unique = snomed_df_unique.drop(columns=['_merge'])\n",
    "        \n",
    "    merged_df = pd.concat([icd_df_unique, snomed_df_unique], ignore_index=True)\n",
    "    \n",
    "    if int_cols:\n",
    "        for col in int_cols:\n",
    "            if col in merged_df.columns:\n",
    "                merged_df[col] = merged_df[col].astype('Int64')\n",
    "    \n",
    "    return merged_df\n",
    "        \n",
    "    #return icd_df_unique.reset_index(drop=True), snomed_df_unique.reset_index(drop=True)"
   ]
  },
  {
   "cell_type": "code",
   "execution_count": null,
   "id": "a037ab73",
   "metadata": {},
   "outputs": [],
   "source": [
    "crc_df = unique_patients(crc_icd_df, crc_snomed_df, id_col = 'PATIENT_IDENTIFIER', enc_col = 'ENCOUNTER_KEY', int_cols=['DIAGNOSIS_CODE'])\n",
    "\n",
    "ec_df = unique_patients(ec_icd_df, ec_snomed_df, id_col = 'PATIENT_IDENTIFIER', enc_col = 'ENCOUNTER_KEY', int_cols=['DIAGNOSIS_CODE'])\n",
    "\n",
    "ov_df = unique_patients(ov_icd_df, ov_snomed_df, id_col = 'PATIENT_IDENTIFIER', enc_col = 'ENCOUNTER_KEY', int_cols=['DIAGNOSIS_CODE'])\n",
    "\n",
    "pc_df = unique_patients(pc_icd_df, pc_snomed_df, id_col = 'PATIENT_IDENTIFIER', enc_col = 'ENCOUNTER_KEY', int_cols=['DIAGNOSIS_CODE'])\n",
    "\n",
    "rc_df = unique_patients(rc_icd_df, rc_snomed_df, id_col = 'PATIENT_IDENTIFIER', enc_col = 'ENCOUNTER_KEY', int_cols=['DIAGNOSIS_CODE'])\n",
    "\n",
    "gc_df = unique_patients(gc_icd_df, gc_snomed_df, id_col = 'PATIENT_IDENTIFIER', enc_col = 'ENCOUNTER_KEY', int_cols=['DIAGNOSIS_CODE'])\n",
    "\n",
    "lynch_df = unique_patients(lynch_icd_df, lynch_snomed_df, id_col = 'PATIENT_IDENTIFIER', enc_col = 'ENCOUNTER_KEY', int_cols=['DIAGNOSIS_CODE'])\n"
   ]
  },
  {
   "cell_type": "markdown",
   "id": "cba902b1",
   "metadata": {},
   "source": [
    "**CREATE MAPPING FOR LYNCH SYNDROM ASSOCIATED DIAGNOSIS**"
   ]
  },
  {
   "cell_type": "code",
   "execution_count": null,
   "id": "bbd38319",
   "metadata": {},
   "outputs": [],
   "source": [
    "icd_prefix_map = {\n",
    "    \"Colon Cancer\": [\"C18\", \"C19\", \"C20\"],\n",
    "    \"Endometrial Cancer\": [\"C54\", \"C55\"],\n",
    "    \"Small Intestine\": [\"C17\"],\n",
    "    \"Gastric Cancer\": [\"C16\"],\n",
    "    \"Ovarian Cancer\": [\"C56\", \"C57\", \"C48\"],\n",
    "    \"Pancreatic Cancer\": [\"C25\"],\n",
    "    \"Urothelial Carcinoma\": [\"C65\", \"C66\", \"C67\", \"C68\"],\n",
    "    \"Cholangiocarcinoma\": [\"C221\"],\n",
    "    \"Gliolastoma\": [\"C71\"],\n",
    "    \"Sebaceous Gland Tumor\": [\"C44\"]\n",
    "}\n",
    "\n",
    "snomed_map = {\n",
    "    \"Colon Cancer\": [363406005, 1286877004, 3746849018, 1228486017, 239932014, 3288335015, 3288737014, \n",
    "                     3288993017, 3288598016, 3288712016, 3289030012, 3288530014, 1228536014, 3290094014, \n",
    "                     1217954019, 1217953013, 3035992013, 3036828014, 3037442018, 2535205018, 380130011, 2535206017, \n",
    "                     2900489012, 2160192016, 1217953013, 1228535013, 1216462014, 1228624010, 1228487014, 403809019, \n",
    "                     239912013, 2643505019, 2643506018, 2643508017, 2643507010, 2915311014, 3790880010, 403832015, \n",
    "                     239933016, 288678012, 379090011, 2643851011, 510572019, 510954015],\n",
    "    \"Endometrial Cancer\": [371973000, 1229105017, 3012523015, 403928010, 240022012, 379735014, 3499291018, 3499294014, \n",
    "                           3636679013, 207103018, 192334017, 3333071010, 3333074019, 3333068019, 3333065016, 3499293015, \n",
    "                           3499295010, 3312499013, 3852376016, 3636681010, 3333083012, 2994977010, 510605012, 205166013],\n",
    "    \"Small Intestine\": [363509000, 2160191011, 446866018, 3481647011, 3439176010, 510704017, 510592014, 510728015, 379065014,\n",
    "                       2160191011, 1228534012, 511040016, 379135019, 379136018, 48233017, 510427012, 482634011, 510428019, \n",
    "                       3325842015, 1210556012, 510426015, 1217991013, 482804016],\n",
    "    \"Gastric Cancer\": [1228485018, 1228483013, 2772105011, 288632016, 1228484019, 511086019, 380125012, 1229145014, 380124011, \n",
    "                      3306822012, 1228484019, 511086019, 380125012, 1228483013, 511088018, 380126013, 3040651019, 1288485018, \n",
    "                      63369016, 450902017, 3325637014, 3307808019, 3307809010, 1210719018, 380127016, 239904017, 2160194015, \n",
    "                      36635502019, 3662514010, 1210596014, 511083010],\n",
    "    \"Ovarian Cancer\": [363443007, 363444001, 94091004, 1228569014, 3035729016, 3012579018, 3012586014, 3012567018, 3012633017,\n",
    "                       1228570010, 3012577016, 3012630019, 3012583018, 3012589019, 2643597016, 510637013, 3307072018, 3012796019, \n",
    "                       3307070014, 3307071013, 510864011, 1210694017, 2647879018, 1210573014, 413201016, 482686019],\n",
    "    \"Pancreatic Cancer\": [363418001, 255088001, 1228546011, 510885011, 2990560014, 3800437019, 3760303017, 1228545010, \n",
    "                          510886012, 288723014, 3800446013, 510890014, 1228547019, 151015, 510884010],\n",
    "    \"Urothelial Carcinoma\": [363458004, 363457009, 1228587012, 45320010, 215394019, 183328018, 1219788012, 3753977019,\n",
    "                            3526066013, 3754974014, 3323177015, 3323175011, 510460010, 403951010, 240061016, 1786810016, \n",
    "                            1228584017],\n",
    "    \"Cholangiocarcinoma\": [70179006, 116557016, 116560011, 455768011, 395734011, 1228489012, 1210559017, 3326323019, 3970195012],\n",
    "    \"Gliolastoma\": [1163375002, 105759017, 2842007014, 105761014, 1487417014, 2840665013, 413144010, 2839701019, 413145011, 58840015, \n",
    "                   291833017, 3475170019, 3475171015, 3475174011, 3475169015, 2973132012, 1232485016],\n",
    "    \"Sebaceous Gland Tumor\": [307599002, 92707003, 307599002, 90974013, 450909014, 347405018]\n",
    "}"
   ]
  },
  {
   "cell_type": "code",
   "execution_count": null,
   "id": "a49ac744",
   "metadata": {},
   "outputs": [],
   "source": [
    "def assign_cancer_category_prefix(df, icd_prefix_map, snomed_map, icd_cols=None, snomed_col='DIAGNOSIS_CODE'):\n",
    "    \n",
    "    if icd_cols is None:\n",
    "        icd_cols = ['ICD9_PRI_DIAG', 'ICD9CM_PRI_DIAG']\n",
    "    \n",
    "    df = df.copy()\n",
    "    df['Lynch_Type'] = pd.NA\n",
    "    \n",
    "    for category, prefixes in icd_prefix_map.items():\n",
    "        prefix_tuple = tuple(prefixes)\n",
    "        mask = pd.Series(False, index=df.index)\n",
    "        for col in icd_cols:\n",
    "            if col in df.columns:\n",
    "                col_series = df[col].fillna('').astype(str)\n",
    "                mask |= col_series.str.startswith(prefix_tuple)\n",
    "        df.loc[mask, 'Lynch_Type'] = category\n",
    "    \n",
    "    if snomed_col in df.columns:\n",
    "        \n",
    "        if all(isinstance(code, int) for codes in snomed_map.values() for code in codes):\n",
    "            df[snomed_col] = pd.to_numeric(df[snomed_col], errors='coerce').astype('Int64')\n",
    "            \n",
    "        for category, codes in snomed_map.items():\n",
    "            df.loc[df[snomed_col].isin(codes), 'Lynch_Type'] = category\n",
    "    \n",
    "    return df"
   ]
  },
  {
   "cell_type": "code",
   "execution_count": null,
   "id": "7bd650d6",
   "metadata": {},
   "outputs": [],
   "source": [
    "lynch_categoried_df = assign_cancer_category_prefix(lynch_df, icd_prefix_map, snomed_map, icd_cols=None, snomed_col='DIAGNOSIS_CODE')"
   ]
  },
  {
   "cell_type": "code",
   "execution_count": null,
   "id": "7d516e28",
   "metadata": {},
   "outputs": [],
   "source": [
    "lynch_categoried_df.head(5)"
   ]
  },
  {
   "cell_type": "code",
   "execution_count": null,
   "id": "994650e5",
   "metadata": {},
   "outputs": [],
   "source": [
    "lynch_categoried_df['ENCOUNTER_DATE']  = pd.to_datetime(lynch_categoried_df['ENCOUNTER_DATE'])"
   ]
  },
  {
   "cell_type": "code",
   "execution_count": null,
   "id": "58972f26",
   "metadata": {},
   "outputs": [],
   "source": [
    "lynch_categoried_df['year'] = lynch_categoried_df['ENCOUNTER_DATE'].dt.year"
   ]
  },
  {
   "cell_type": "code",
   "execution_count": null,
   "id": "c729b69a",
   "metadata": {},
   "outputs": [],
   "source": [
    "#Function for cancer + 2 additional lynch syndrome criteria\n",
    "\n",
    "def filter_additional_count(df, id_col, category_col, primary_category, min_other_count, year_col='year', return_primary_only=True):\n",
    "      \n",
    "    summary = df.groupby(id_col)[category_col].agg(\n",
    "        has_primary=lambda x: (x == primary_category).any(),\n",
    "        other_count=lambda x: (x != primary_category).sum()\n",
    "    )\n",
    "    \n",
    "    eligible_ids = summary[\n",
    "        (summary['has_primary']) & (summary['other_count'] >= min_other_count)\n",
    "    ].index\n",
    "    \n",
    "    print(f\"{len(eligible_ids)} patient(s) with '{primary_category}' and >= {min_other_count} other types.\")\n",
    "    \n",
    "    mask = df[id_col].isin(eligible_ids)\n",
    "    if return_primary_only:\n",
    "        mask &= df[category_col] == primary_category\n",
    "        \n",
    "    result_df = df[mask].reset_index(drop=True)\n",
    "    \n",
    "    \n",
    "    if year_col in df.columns:\n",
    "        yearly_counts = (\n",
    "            result_df.drop_duplicates(subset=[id_col, year_col]).groupby(year_col)[id_col].nunique().reindex(range(2017, 2022), fill_value=0)\n",
    "        )\n",
    "        \n",
    "        for year, count in yearly_counts.items():\n",
    "            print(f\"Year {year}: {count}\")\n",
    "        \n",
    "    \n",
    "    return result_df\n",
    "    \n",
    "    "
   ]
  },
  {
   "cell_type": "code",
   "execution_count": null,
   "id": "74e21bca",
   "metadata": {},
   "outputs": [],
   "source": [
    "#Function for complex colorectal cancer criteria\n",
    "\n",
    "def filter_crc_complex(lynch_categoried_df, id_col, category_col, date_col, year_col='year'):\n",
    "    df = lynch_categoried_df.copy()\n",
    "    df[date_col] = pd.to_datetime(df[date_col])\n",
    "    \n",
    "    eligible_ids = set()\n",
    "    grouped = df.groupby(id_col)\n",
    "    \n",
    "    for pid, group in grouped:\n",
    "        crc_dates = group.loc[group[category_col] == 'Colon Cancer', date_col].sort_values()\n",
    "        \n",
    "        other_count = (group[category_col] != 'Colon Cancer').sum()\n",
    "        \n",
    "        meets_repeat = False\n",
    "        dates_list = crc_dates.tolist()\n",
    "        for i in range(len(dates_list) - 1):\n",
    "            if dates_list[i+1] >= dates_list[i] + pd.DateOffset(months=6):\n",
    "                meets_repeat=True\n",
    "                break\n",
    "            \n",
    "        if other_count >= 1 or meets_repeat:\n",
    "            eligible_ids.add(pid)\n",
    "     \n",
    "    subset = df[\n",
    "        df[id_col].isin(eligible_ids) & (df[category_col] == 'Colon Cancer')].reset_index(drop=True)\n",
    "     \n",
    "    total_rows = subset.shape[0]\n",
    "    \n",
    "    unique_pat = subset[id_col].nunique()\n",
    "        \n",
    "    print(f\"{unique_pat} patient(s) with 'Colon Cancer' and \" \n",
    "             f\"either >= 1 other Lynch type or >= 2 CRC cases >= 6 months apart.\")\n",
    "    \n",
    "    if year_col not in subset.columns:\n",
    "        subset[year_col] = subset[date_col].dt.year\n",
    "        \n",
    "    yearly_counts = (\n",
    "            subset.drop_duplicates(subset=[id_col, year_col]).groupby(year_col)[id_col].nunique().reindex(range(2017, 2022), fill_value=0)\n",
    "        )\n",
    "        \n",
    "    for year, count in yearly_counts.items():\n",
    "        print(f\"Year {year}: {count}\")\n",
    "        \n",
    "    \n",
    "    return subset"
   ]
  },
  {
   "cell_type": "markdown",
   "id": "62d4fe5b",
   "metadata": {},
   "source": [
    "**Assigning Diagnosis column for easier filtering**"
   ]
  },
  {
   "cell_type": "markdown",
   "id": "ee677246",
   "metadata": {},
   "source": [
    "# Multi Cancer Criteria Filtering "
   ]
  },
  {
   "cell_type": "markdown",
   "id": "28bbd819",
   "metadata": {},
   "source": [
    "**Filter 1: Endometrial Cancer and a Second Lynch syndrome-associated cancer in the same person**"
   ]
  },
  {
   "cell_type": "code",
   "execution_count": null,
   "id": "56170142",
   "metadata": {},
   "outputs": [],
   "source": [
    "ec_s = filter_additional_count(lynch_categoried_df, id_col='PATIENT_IDENTIFIER', category_col='Lynch_Type', \n",
    "                              primary_category='Endometrial Cancer', min_other_count=1, return_primary_only=False)"
   ]
  },
  {
   "cell_type": "code",
   "execution_count": null,
   "id": "62bb9026",
   "metadata": {},
   "outputs": [],
   "source": [
    "ec_s_pat = ec_s['PATIENT_IDENTIFIER'].unique()\n",
    "ec_s_pat_df = pd.DataFrame({'PATIENT_IDENTIFIER': ec_s_pat})\n",
    "ec_s_pat_df"
   ]
  },
  {
   "cell_type": "markdown",
   "id": "7d9629c2",
   "metadata": {},
   "source": [
    "**Filter 2: Ovarian Cancer and Second Lynch Syndrome-associated cancer in the same person**"
   ]
  },
  {
   "cell_type": "code",
   "execution_count": null,
   "id": "0926f503",
   "metadata": {},
   "outputs": [],
   "source": [
    "ov_s = filter_additional_count(lynch_categoried_df, id_col='PATIENT_IDENTIFIER', category_col='Lynch_Type', \n",
    "                              primary_category='Ovarian Cancer', min_other_count=1, return_primary_only=False)"
   ]
  },
  {
   "cell_type": "code",
   "execution_count": null,
   "id": "739ea0fd",
   "metadata": {},
   "outputs": [],
   "source": [
    "ov_s_pat = ov_s['PATIENT_IDENTIFIER'].unique()\n",
    "ov_s_pat_df = pd.DataFrame({'PATIENT_IDENTIFIER': ov_s_pat})\n",
    "ov_s_pat_df"
   ]
  },
  {
   "cell_type": "markdown",
   "id": "d35f09db",
   "metadata": {},
   "source": [
    "**Filter 3: Gastric Cancer and hisotry of a Second Lynch Syndrome-associated cancer in the same person**"
   ]
  },
  {
   "cell_type": "code",
   "execution_count": null,
   "id": "182f2bf5",
   "metadata": {},
   "outputs": [],
   "source": [
    "gc_s = filter_additional_count(lynch_categoried_df, id_col='PATIENT_IDENTIFIER', category_col='Lynch_Type', \n",
    "                              primary_category='Gastric Cancer', min_other_count=1, return_primary_only=False)"
   ]
  },
  {
   "cell_type": "code",
   "execution_count": null,
   "id": "606aed08",
   "metadata": {},
   "outputs": [],
   "source": [
    "gc_s_pat = gc_s['PATIENT_IDENTIFIER'].unique()\n",
    "gc_s_pat_df = pd.DataFrame({'PATIENT_IDENTIFIER': gc_s_pat})\n",
    "gc_s_pat_df"
   ]
  },
  {
   "cell_type": "markdown",
   "id": "6be322bb",
   "metadata": {},
   "source": [
    "**Filter 4: Pancreatic Cancer and 2 additional case of Lynch Syndrome-associated cancer in the same person**"
   ]
  },
  {
   "cell_type": "code",
   "execution_count": null,
   "id": "b079708c",
   "metadata": {},
   "outputs": [],
   "source": [
    "pc_add = filter_additional_count(lynch_categoried_df, id_col='PATIENT_IDENTIFIER', category_col='Lynch_Type', \n",
    "                              primary_category='Pancreatic Cancer', min_other_count=2, return_primary_only=False)"
   ]
  },
  {
   "cell_type": "code",
   "execution_count": null,
   "id": "a9d77296",
   "metadata": {},
   "outputs": [],
   "source": [
    "pc_add_pat = pc_add['PATIENT_IDENTIFIER'].unique()\n",
    "pc_add_pat_df = pd.DataFrame({'PATIENT_IDENTIFIER': pc_add_pat})\n",
    "pc_add_pat_df"
   ]
  },
  {
   "cell_type": "markdown",
   "id": "4724089b",
   "metadata": {},
   "source": [
    "**Filter 5: Renal Cancer and 2 additional case of Lynch Syndrome-associated cancer in the same person**"
   ]
  },
  {
   "cell_type": "code",
   "execution_count": null,
   "id": "8dc5742d",
   "metadata": {},
   "outputs": [],
   "source": [
    "rc_add = filter_additional_count(lynch_categoried_df, id_col='PATIENT_IDENTIFIER', category_col='Lynch_Type', \n",
    "                              primary_category='Urothelial Carcinoma', min_other_count=2, return_primary_only=False)"
   ]
  },
  {
   "cell_type": "code",
   "execution_count": null,
   "id": "6e685cfa",
   "metadata": {},
   "outputs": [],
   "source": [
    "rc_add_pat = rc_add['PATIENT_IDENTIFIER'].unique()\n",
    "rc_add_pat_df = pd.DataFrame({'PATIENT_IDENTIFIER': rc_add_pat})\n",
    "rc_add_pat_df"
   ]
  },
  {
   "cell_type": "markdown",
   "id": "00ced41f",
   "metadata": {},
   "source": [
    "**Filter 6: Colon Cancer and additional case of Lynch Syndrome-associated cancer in the same person (includin 2 crc)**"
   ]
  },
  {
   "cell_type": "code",
   "execution_count": null,
   "id": "36006115",
   "metadata": {},
   "outputs": [],
   "source": [
    "crc_complex = filter_crc_complex(lynch_categoried_df, id_col='PATIENT_IDENTIFIER', category_col='Lynch_Type', date_col='ENCOUNTER_DATE')"
   ]
  },
  {
   "cell_type": "code",
   "execution_count": null,
   "id": "47304c12",
   "metadata": {},
   "outputs": [],
   "source": [
    "crc_complex_pat = crc_complex['PATIENT_IDENTIFIER'].unique()\n",
    "crc_complex_pat_df = pd.DataFrame({'PATIENT_IDENTIFIER': crc_complex_pat})\n",
    "crc_complex_pat_df"
   ]
  },
  {
   "cell_type": "markdown",
   "id": "4caccce7",
   "metadata": {},
   "source": [
    "**END**"
   ]
  },
  {
   "cell_type": "markdown",
   "id": "a47f9f3e",
   "metadata": {},
   "source": [
    "**TESTING FUNCTION USING DUMMY DATA**"
   ]
  },
  {
   "cell_type": "code",
   "execution_count": null,
   "id": "35e34744",
   "metadata": {},
   "outputs": [],
   "source": [
    "dummy_data = [\n",
    "    \n",
    "    #Patient 1: CRC Twice < 6 months -> should not qualify\n",
    "    {'PATIENT_IDENTIFIER': '1', 'Lynch_Type': 'Colon Cancer', 'ENCOUNTER_DATE': '2025-01-01'},\n",
    "    {'PATIENT_IDENTIFIER': '1', 'Lynch_Type': 'Colon Cancer', 'ENCOUNTER_DATE': '2025-02-01'},\n",
    "    \n",
    "    #Patient 2: CRC Twice > 6 months -> Should quality \n",
    "    {'PATIENT_IDENTIFIER': '2', 'Lynch_Type': 'Colon Cancer', 'ENCOUNTER_DATE': '2025-03-01'},\n",
    "    {'PATIENT_IDENTIFIER': '2', 'Lynch_Type': 'Colon Cancer', 'ENCOUNTER_DATE': '2025-10-01'},\n",
    "    \n",
    "    #Patient 3: CRC once + another lynch type -> Should qualify\n",
    "    {'PATIENT_IDENTIFIER': '3', 'Lynch_Type': 'Colon Cancer', 'ENCOUNTER_DATE': '2025-02-01'},\n",
    "    {'PATIENT_IDENTIFIER': '3', 'Lynch_Type': 'Endometrial Cancer', 'ENCOUNTER_DATE': '2025-04-05'},\n",
    "    \n",
    "    #Patient 4: Not Crc -> Should not qualify\n",
    "    {'PATIENT_IDENTIFIER': '4', 'Lynch_Type': 'Gastric Cancer', 'ENCOUNTER_DATE': '2025-02-01'},\n",
    "    \n",
    "    \n",
    "    #Patient 5: CRC Twice > 6 months -> Should quality \n",
    "    {'PATIENT_IDENTIFIER': '5', 'Lynch_Type': 'Colon Cancer', 'ENCOUNTER_DATE': '2025-02-01'},\n",
    "    {'PATIENT_IDENTIFIER': '5', 'Lynch_Type': 'Colon Cancer', 'ENCOUNTER_DATE': '2025-12-05'},\n",
    "    \n",
    "    #Patient 6: CRC Twice > 6 months -> Should quality \n",
    "    {'PATIENT_IDENTIFIER': '6', 'Lynch_Type': 'Colon Cancer', 'ENCOUNTER_DATE': '2025-02-01'},\n",
    "    {'PATIENT_IDENTIFIER': '6', 'Lynch_Type': 'Colon Cancer', 'ENCOUNTER_DATE': '2025-12-05'},\n",
    "    {'PATIENT_IDENTIFIER': '6', 'Lynch_Type': 'Colon Cancer', 'ENCOUNTER_DATE': '2023-12-05'},\n",
    "    {'PATIENT_IDENTIFIER': '6', 'Lynch_Type': 'Colon Cancer', 'ENCOUNTER_DATE': '2021-12-05'},\n",
    "    {'PATIENT_IDENTIFIER': '6', 'Lynch_Type': 'Colon Cancer', 'ENCOUNTER_DATE': '2025-01-05'},\n",
    "    \n",
    "]\n",
    "\n",
    "dummy_df = pd.DataFrame(dummy_data)"
   ]
  },
  {
   "cell_type": "code",
   "execution_count": null,
   "id": "2f3c2694",
   "metadata": {},
   "outputs": [],
   "source": [
    "ts = filter_crc_complex(dummy_df, id_col='PATIENT_IDENTIFIER', category_col='Lynch_Type', date_col='ENCOUNTER_DATE')"
   ]
  },
  {
   "cell_type": "code",
   "execution_count": null,
   "id": "4dc894b8",
   "metadata": {},
   "outputs": [],
   "source": [
    "# Flagged patient keys\n",
    "lynch_flagged_df = pd.concat([ec_s_pat_df, ov_s_pat_df, gc_s_pat_df, pc_add_pat_df, rc_add_pat_df, crc_complex_pat_df], ignore_index=True)"
   ]
  },
  {
   "cell_type": "code",
   "execution_count": null,
   "id": "85d54db6",
   "metadata": {},
   "outputs": [],
   "source": [
    "lynch_flagged_df.to_csv('lynch_flagged_df.csv')"
   ]
  }
 ],
 "metadata": {
  "kernelspec": {
   "display_name": "Python 3 (ipykernel)",
   "language": "python",
   "name": "python3"
  },
  "language_info": {
   "codemirror_mode": {
    "name": "ipython",
    "version": 3
   },
   "file_extension": ".py",
   "mimetype": "text/x-python",
   "name": "python",
   "nbconvert_exporter": "python",
   "pygments_lexer": "ipython3",
   "version": "3.10.9"
  }
 },
 "nbformat": 4,
 "nbformat_minor": 5
}
