{
 "cells": [
  {
   "cell_type": "code",
   "execution_count": null,
   "id": "c31c51f8",
   "metadata": {},
   "outputs": [],
   "source": [
    "import numpy as np\n",
    "import pandas as pd\n",
    "import regex as re"
   ]
  },
  {
   "cell_type": "code",
   "execution_count": null,
   "id": "71867efa",
   "metadata": {},
   "outputs": [],
   "source": [
    "# endo cancer\n",
    "ec_2017_2021_df = pd.read_csv('EC_2017_2021_CDOC_CLEANED_V2.csv')\n",
    "ec_snomed_2017_2021_df = pd.read_csv('EC_2017_2021_SNOMED_CDOC_CLEANED.csv')\n",
    "\n",
    "# #ovarian cancer\n",
    "oc_2017_2021_df = pd.read_csv('OC_2017_2021_CDOC_CLEANED.csv')\n",
    "oc_snomed_2017_2021_df = pd.read_csv('OC_2017_2021_SNOMED_CDOC_CLEANED.csv')"
   ]
  },
  {
   "cell_type": "code",
   "execution_count": null,
   "id": "4a39b6cd",
   "metadata": {},
   "outputs": [],
   "source": [
    "# Renal cancer\n",
    "rc_2017_2021_df = pd.read_csv('RC_2017_2021_CDOC_CLEANED.csv')\n",
    "rc_snomed_2017_2021_df = pd.read_csv('RC_SNOMED_CLEANED.csv')"
   ]
  },
  {
   "cell_type": "code",
   "execution_count": null,
   "id": "568e3bcf",
   "metadata": {},
   "outputs": [],
   "source": [
    "#breast cancer, tnbc\n",
    "bc_2017_2021_df = pd.read_csv('BC_LESS_50_CLEANED.csv')\n",
    "bc_snomed_2017_2021_df = pd.read_csv('BC_LESS_50__SNOMED_CLEANED.csv')"
   ]
  },
  {
   "cell_type": "code",
   "execution_count": null,
   "id": "5c884bde",
   "metadata": {},
   "outputs": [],
   "source": [
    "#Diffuse gastric \n",
    "dgc_2017_2021_df = pd.read_csv('diffuse_gastric_cancer_ICD_CLEANED.csv')\n",
    "dgc_snomed_2017_2021_df = pd.read_csv('diffuse_gastric_cancer_SNOMED_CLEANED.csv')"
   ]
  },
  {
   "cell_type": "code",
   "execution_count": null,
   "id": "4264cda5",
   "metadata": {},
   "outputs": [],
   "source": [
    "#finding common encounter key\n",
    "common_keys = set(ec_2017_2021_df['ENCOUNTER_KEY']).intersection(ec_snomed_2017_2021_df['ENCOUNTER_KEY'])"
   ]
  },
  {
   "cell_type": "code",
   "execution_count": null,
   "id": "6a11423c",
   "metadata": {},
   "outputs": [],
   "source": [
    "common_keys_oc = set(oc_2017_2021_df['ENCOUNTER_KEY']).intersection(oc_snomed_2017_2021_df['ENCOUNTER_KEY'])"
   ]
  },
  {
   "cell_type": "code",
   "execution_count": null,
   "id": "5d28e706",
   "metadata": {},
   "outputs": [],
   "source": [
    "common_keys_bc = set(bc_2017_2021_df['ENCOUNTER_KEY']).intersection(bc_snomed_2017_2021_df['ENCOUNTER_KEY'])\n",
    "\n",
    "common_keys_rc = set(rc_2017_2021_df['ENCOUNTER_KEY']).intersection(rc_snomed_2017_2021_df['ENCOUNTER_KEY'])"
   ]
  },
  {
   "cell_type": "code",
   "execution_count": null,
   "id": "18b20a59",
   "metadata": {},
   "outputs": [],
   "source": [
    "common_keys_dgc = set(dgc_2017_2021_df['ENCOUNTER_KEY']).intersection(dgc_snomed_2017_2021_df['ENCOUNTER_KEY'])"
   ]
  },
  {
   "cell_type": "markdown",
   "id": "f16f0930",
   "metadata": {},
   "source": [
    "**Drop from one dataframe (snomed) then concat the remaining**"
   ]
  },
  {
   "cell_type": "code",
   "execution_count": null,
   "id": "f0e37b4e",
   "metadata": {},
   "outputs": [],
   "source": [
    "# FOR Endo Cancer\n",
    "ec_snomed_drop = ec_snomed_2017_2021_df[~ec_snomed_2017_2021_df['ENCOUNTER_KEY'].isin(common_keys)].copy()\n",
    "\n",
    "ec_combined = pd.concat([ec_2017_2021_df, ec_snomed_drop], ignore_index=True)\n",
    "\n",
    "ec_combined"
   ]
  },
  {
   "cell_type": "code",
   "execution_count": null,
   "id": "e390ef59",
   "metadata": {},
   "outputs": [],
   "source": [
    "#For ovarian cancer\n",
    "oc_snomed_drop = oc_snomed_2017_2021_df[~oc_snomed_2017_2021_df['ENCOUNTER_KEY'].isin(common_keys_oc)].copy()\n",
    "\n",
    "oc_combined = pd.concat([oc_2017_2021_df, oc_snomed_drop], ignore_index=True)\n",
    "\n",
    "oc_combined"
   ]
  },
  {
   "cell_type": "code",
   "execution_count": null,
   "id": "896a1ff7",
   "metadata": {},
   "outputs": [],
   "source": [
    "#For Renal cancer\n",
    "rc_snomed_drop = rc_snomed_2017_2021_df[~rc_snomed_2017_2021_df['ENCOUNTER_KEY'].isin(common_keys_rc)].copy()\n",
    "\n",
    "rc_combined = pd.concat([rc_2017_2021_df, rc_snomed_drop], ignore_index=True)\n",
    "\n",
    "rc_combined"
   ]
  },
  {
   "cell_type": "code",
   "execution_count": null,
   "id": "efc6d20a",
   "metadata": {},
   "outputs": [],
   "source": [
    "#For Breast Cancer\n",
    "bc_snomed_drop = bc_snomed_2017_2021_df[~bc_snomed_2017_2021_df['ENCOUNTER_KEY'].isin(common_keys_bc)].copy()\n",
    "\n",
    "bc_combined = pd.concat([bc_2017_2021_df, bc_snomed_drop], ignore_index=True)\n",
    "\n",
    "bc_combined"
   ]
  },
  {
   "cell_type": "code",
   "execution_count": null,
   "id": "5c37fa71",
   "metadata": {},
   "outputs": [],
   "source": [
    "#For Diffuse Gastric Cancer\n",
    "dgc_snomed_drop = dgc_snomed_2017_2021_df[~dgc_snomed_2017_2021_df['ENCOUNTER_KEY'].isin(common_keys_dgc)].copy()\n",
    "\n",
    "dgc_combined = pd.concat([dgc_2017_2021_df, dgc_snomed_drop], ignore_index=True)\n",
    "\n",
    "dgc_combined"
   ]
  },
  {
   "cell_type": "code",
   "execution_count": null,
   "id": "3c34a647",
   "metadata": {},
   "outputs": [],
   "source": [
    "oc_combined.to_csv('final_oc_combined_cdoc.csv')"
   ]
  },
  {
   "cell_type": "code",
   "execution_count": null,
   "id": "e7ee1a69",
   "metadata": {},
   "outputs": [],
   "source": [
    "ec_combined.to_csv('final_ec_combined_cdoc.csv')"
   ]
  },
  {
   "cell_type": "code",
   "execution_count": null,
   "id": "1845813a",
   "metadata": {},
   "outputs": [],
   "source": [
    "rc_combined.to_csv('final_rc_combined_cdoc.csv')"
   ]
  },
  {
   "cell_type": "code",
   "execution_count": null,
   "id": "66c5587b",
   "metadata": {},
   "outputs": [],
   "source": [
    "dgc_combined.to_csv('final_dgc_combined_cdoc.csv')"
   ]
  }
 ],
 "metadata": {
  "kernelspec": {
   "display_name": "Python 3 (ipykernel)",
   "language": "python",
   "name": "python3"
  },
  "language_info": {
   "codemirror_mode": {
    "name": "ipython",
    "version": 3
   },
   "file_extension": ".py",
   "mimetype": "text/x-python",
   "name": "python",
   "nbconvert_exporter": "python",
   "pygments_lexer": "ipython3",
   "version": "3.10.9"
  }
 },
 "nbformat": 4,
 "nbformat_minor": 5
}
