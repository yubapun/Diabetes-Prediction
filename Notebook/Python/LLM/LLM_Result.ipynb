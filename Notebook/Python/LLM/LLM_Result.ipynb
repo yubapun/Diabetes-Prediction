{
 "cells": [
  {
   "cell_type": "code",
   "execution_count": null,
   "id": "c7f0b5f9",
   "metadata": {},
   "outputs": [],
   "source": [
    "import pandas as pd\n",
    "import numpy as np"
   ]
  },
  {
   "cell_type": "code",
   "execution_count": null,
   "id": "99c137fc",
   "metadata": {},
   "outputs": [],
   "source": [
    "pd.options.display.max_rows = 1000\n",
    "pd.options.display.max_columns = 1000"
   ]
  },
  {
   "cell_type": "code",
   "execution_count": null,
   "id": "52118403",
   "metadata": {},
   "outputs": [],
   "source": [
    "ec_llm = pd.read_csv('ec_final_count_v2_5094.csv')\n",
    "oc_llm = pd.read_csv('oc_final_count_v2_1711.csv')"
   ]
  },
  {
   "cell_type": "code",
   "execution_count": null,
   "id": "01717733",
   "metadata": {},
   "outputs": [],
   "source": [
    "rc_llm = pd.read_csv('rc_final_count_201.csv')"
   ]
  },
  {
   "cell_type": "code",
   "execution_count": null,
   "id": "d5979603",
   "metadata": {},
   "outputs": [],
   "source": [
    "tnbc_llm = pd.read_csv('tnbc_final_count_71099.csv')"
   ]
  },
  {
   "cell_type": "code",
   "execution_count": null,
   "id": "97f353ea",
   "metadata": {},
   "outputs": [],
   "source": [
    "#CONVERT ALL DATE COLUMN TO DATETIME\n",
    "ec_llm['ENC_DATE']  = pd.to_datetime(ec_llm['ENC_DATE'])\n",
    "oc_llm['ENC_DATE']  = pd.to_datetime(oc_llm['ENC_DATE'])\n",
    "rc_llm['ENC_DATE']  = pd.to_datetime(rc_llm['ENC_DATE'])\n",
    "tnbc_llm['ENC_DATE']  = pd.to_datetime(tnbc_llm['ENC_DATE'])"
   ]
  },
  {
   "cell_type": "code",
   "execution_count": null,
   "id": "d4522688",
   "metadata": {
    "scrolled": true
   },
   "outputs": [],
   "source": [
    "#Extract year into its own column\n",
    "ec_llm['year'] = ec_llm['ENC_DATE'].dt.year\n",
    "oc_llm['year'] = oc_llm['ENC_DATE'].dt.year\n",
    "rc_llm['year'] = rc_llm['ENC_DATE'].dt.year\n",
    "tnbc_llm['year'] = tnbc_llm['ENC_DATE'].dt.year"
   ]
  },
  {
   "cell_type": "code",
   "execution_count": null,
   "id": "72d7438c",
   "metadata": {},
   "outputs": [],
   "source": [
    "#Function to count yearly patients\n",
    "def unique_patients(df):\n",
    "    return (\n",
    "        df.drop_duplicates(subset=['PATIENT_KEY', 'year']).groupby('year')['PATIENT_KEY'].nunique().reindex(range(2017,2022), fill_value=0)\n",
    "    )"
   ]
  },
  {
   "cell_type": "markdown",
   "id": "af5d09c5",
   "metadata": {},
   "source": [
    "**Criteria 1: Endometrial cancer that is MMR-Deficient**"
   ]
  },
  {
   "cell_type": "code",
   "execution_count": null,
   "id": "fbfda58f",
   "metadata": {},
   "outputs": [],
   "source": [
    "ec_abnormal = ec_llm[ec_llm['overall_result'] == 'abnormal\"']\n",
    "unique_patients(ec_abnormal)"
   ]
  },
  {
   "cell_type": "markdown",
   "id": "6a26af0a",
   "metadata": {},
   "source": [
    "**Criteria 2: Ovarian Cancer that is MMR-Deficient**"
   ]
  },
  {
   "cell_type": "code",
   "execution_count": null,
   "id": "16bb11f6",
   "metadata": {},
   "outputs": [],
   "source": [
    "oc_abnormal = oc_llm[oc_llm['overall_result'] == 'abnormal\"']\n",
    "unique_patients(oc_abnormal)"
   ]
  },
  {
   "cell_type": "markdown",
   "id": "e386cb40",
   "metadata": {},
   "source": [
    "**Criteria 3: Renal Cancer that is MMR-Deficient**"
   ]
  },
  {
   "cell_type": "code",
   "execution_count": null,
   "id": "1b8f85c0",
   "metadata": {},
   "outputs": [],
   "source": [
    "rc_abnormal = rc_llm[rc_llm['overall_result'] == 'abnormal\"']\n",
    "unique_patients(rc_abnormal)"
   ]
  },
  {
   "cell_type": "markdown",
   "id": "6f520cd2",
   "metadata": {},
   "source": [
    "**Criteria 4: Triple Negative Breast Cancer**"
   ]
  },
  {
   "cell_type": "code",
   "execution_count": null,
   "id": "1f3fdd6f",
   "metadata": {},
   "outputs": [],
   "source": [
    "tnbc_abnormal = tnbc_llm[tnbc_llm['overall_result'] == 'triple_negative\"']\n",
    "unique_patients(tnbc_abnormal)"
   ]
  },
  {
   "cell_type": "markdown",
   "id": "58b9654e",
   "metadata": {},
   "source": [
    "TNBC"
   ]
  },
  {
   "cell_type": "code",
   "execution_count": null,
   "id": "7be7f7e7",
   "metadata": {},
   "outputs": [],
   "source": [
    "tnbc = pd.read_csv('tnbc_final_count_71099.csv')"
   ]
  },
  {
   "cell_type": "code",
   "execution_count": null,
   "id": "87d9337e",
   "metadata": {},
   "outputs": [],
   "source": [
    "pos_outcome_tnbc = tnbc[tnbc['overall_result'] == 'triple_negative\"']"
   ]
  },
  {
   "cell_type": "code",
   "execution_count": null,
   "id": "8bc09a32",
   "metadata": {},
   "outputs": [],
   "source": [
    "pos_outcome_tnbc_head = pos_outcome_tnbc.head(100)"
   ]
  },
  {
   "cell_type": "code",
   "execution_count": null,
   "id": "ec6cbcfc",
   "metadata": {},
   "outputs": [],
   "source": [
    "pos_outcome_tnbc_head"
   ]
  },
  {
   "cell_type": "code",
   "execution_count": null,
   "id": "c9e1c87c",
   "metadata": {},
   "outputs": [],
   "source": [
    "for idx, row in pos_outcome_tnbc_head.iterrows():\n",
    "    print(f\"Index: {idx}\")\n",
    "    print(row['CleanedText'])\n",
    "    print('\\n' + '-'*80)"
   ]
  },
  {
   "cell_type": "code",
   "execution_count": null,
   "id": "3c6bb46e",
   "metadata": {},
   "outputs": [],
   "source": [
    "specific_pat = ['17212', '26185', '']"
   ]
  }
 ],
 "metadata": {
  "kernelspec": {
   "display_name": "Python 3 (ipykernel)",
   "language": "python",
   "name": "python3"
  },
  "language_info": {
   "codemirror_mode": {
    "name": "ipython",
    "version": 3
   },
   "file_extension": ".py",
   "mimetype": "text/x-python",
   "name": "python",
   "nbconvert_exporter": "python",
   "pygments_lexer": "ipython3",
   "version": "3.10.9"
  }
 },
 "nbformat": 4,
 "nbformat_minor": 5
}
